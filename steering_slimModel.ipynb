{
 "cells": [
  {
   "cell_type": "code",
   "execution_count": 1,
   "metadata": {
    "colab": {},
    "colab_type": "code",
    "id": "vWjp0YakvnjK"
   },
   "outputs": [],
   "source": [
    "import torchvision.models as models\n",
    "import torch\n",
    "from torchvision import transforms\n",
    "from PIL import Image\n",
    "from torch.nn.utils.rnn import *\n",
    "from torch import nn\n",
    "from torch.utils import data\n",
    "import time\n",
    "import pdb\n",
    "from torch.autograd import Variable\n",
    "\n",
    "import numpy as np\n",
    "from sklearn.model_selection import train_test_split"
   ]
  },
  {
   "cell_type": "code",
   "execution_count": 2,
   "metadata": {
    "colab": {},
    "colab_type": "code",
    "id": "1_FQdqcCbdf_"
   },
   "outputs": [
    {
     "data": {
      "text/plain": [
       "True"
      ]
     },
     "execution_count": 2,
     "metadata": {},
     "output_type": "execute_result"
    }
   ],
   "source": [
    "GPU = torch.cuda.is_available()\n",
    "device = torch.device(\"cuda\" if GPU else \"cpu\")\n",
    "cuda = torch.cuda.is_available()\n",
    "num_workers = 0 if cuda else 0\n",
    "GPU"
   ]
  },
  {
   "cell_type": "code",
   "execution_count": 3,
   "metadata": {},
   "outputs": [],
   "source": [
    "torch.cuda.empty_cache()"
   ]
  },
  {
   "cell_type": "markdown",
   "metadata": {},
   "source": [
    "# Reading Data"
   ]
  },
  {
   "cell_type": "code",
   "execution_count": 4,
   "metadata": {},
   "outputs": [
    {
     "name": "stdout",
     "output_type": "stream",
     "text": [
      "Loading image names only..\n",
      "Data loading complete, took 0 seconds\n",
      "# Images loaded:  33808\n"
     ]
    }
   ],
   "source": [
    "# Image loading hyperparameters\n",
    "numDataPointsWanted = 33808     # max number is 33808\n",
    "LOADIMAGES = False              # True if we want to pre-load all images (usually results in MEM errors)\n",
    "\n",
    "CROPBOX = (0, 200, 640, 480)\n",
    "IMG_SIZE = (320, 240)\n",
    "\n",
    "transform = transforms.ToTensor()\n",
    "root_path = \"./\"\n",
    "\n",
    "def load_cropped_resized_image(filename):\n",
    "    with Image.open(root_path + filename) as img:\n",
    "         return transform(img.crop(CROPBOX).resize(IMG_SIZE).convert('RGB'))\n",
    "\n",
    "if LOADIMAGES:\n",
    "    print(\"Pre-loading all images..\")\n",
    "    X = np.zeros((numDataPointsWanted, 3, IMG_SIZE[0], IMG_SIZE[1]))\n",
    "else:\n",
    "    print(\"Loading image names only..\")\n",
    "    X = np.zeros((numDataPointsWanted), dtype=object)\n",
    "Y = np.zeros((numDataPointsWanted, 3))\n",
    "\n",
    "\n",
    "with open(root_path + \"labels.txt\") as f:\n",
    "    start = time.time()\n",
    "    i = 0\n",
    "    for line in f:\n",
    "        [filename, radians, torque, speed] = line.split(' ')\n",
    "\n",
    "        if LOADIMAGES:\n",
    "            X[i,:,:,:] = load_cropped_resized_image(filename)\n",
    "        else:\n",
    "            X[i] = filename\n",
    "        Y[i,0] = (((float(radians) * 180.0) / np.pi))\n",
    "        Y[i,1] = float(torque)\n",
    "        Y[i,2] = float(speed)\n",
    "        i += 1\n",
    "            \n",
    "        if i == numDataPointsWanted: break\n",
    "    end = time.time()\n",
    "    \n",
    "\n",
    "print(\"Data loading complete, took\", int(end - start), \"seconds\")\n",
    "print('# Images loaded: ', len(X))"
   ]
  },
  {
   "cell_type": "code",
   "execution_count": 6,
   "metadata": {},
   "outputs": [
    {
     "name": "stdout",
     "output_type": "stream",
     "text": [
      "(23665,)\n"
     ]
    }
   ],
   "source": [
    "#trainX, valX, trainY, valY = train_test_split(X, Y, test_size=0.30)\n",
    "split = int(0.7*len(X))\n",
    "trainX = X[:split]\n",
    "valX = X[split:]\n",
    "trainY = Y[:split]\n",
    "valY = Y[split:]\n",
    "print(trainX.shape)"
   ]
  },
  {
   "cell_type": "markdown",
   "metadata": {},
   "source": [
    "# Dataset"
   ]
  },
  {
   "cell_type": "code",
   "execution_count": 7,
   "metadata": {
    "colab": {},
    "colab_type": "code",
    "id": "E-AvSJUVAdby"
   },
   "outputs": [],
   "source": [
    "class Dataset(data.Dataset):\n",
    "    def __init__(self, X, Y, seq_len, loaded_images):\n",
    "        self.X = X\n",
    "        self.Y = Y\n",
    "        self.seq_len = seq_len\n",
    "        self.loaded_images = loaded_images\n",
    "        \n",
    "    def __len__(self):\n",
    "        return len(self.X) - self.seq_len\n",
    "\n",
    "    def __getitem__(self, index):\n",
    "        if not self.loaded_images:\n",
    "            x = np.zeros((self.seq_len, 3, IMG_SIZE[1], IMG_SIZE[0]))\n",
    "            for i in range(self.seq_len):\n",
    "                x[i,:,:,:] = load_cropped_resized_image(self.X[index + i])\n",
    "            return x, self.Y[index + self.seq_len - 1]\n",
    "        return self.X[index:index + self.seq_len], self.Y[index + self.seq_len - 1]"
   ]
  },
  {
   "cell_type": "code",
   "execution_count": 8,
   "metadata": {},
   "outputs": [],
   "source": [
    "BATCH_SIZE = 2\n",
    "SEQ_LEN = 15\n",
    "num_workers = 0 if cuda else 0\n",
    "\n",
    "train_set = Dataset(trainX, trainY, SEQ_LEN, LOADIMAGES) #LOADIMAGES set to false\n",
    "train_dataloader = data.DataLoader(train_set, batch_size=BATCH_SIZE, shuffle=True, num_workers=num_workers)\n",
    "val_set = Dataset(valX, valY, SEQ_LEN, LOADIMAGES)\n",
    "val_dataloader = data.DataLoader(val_set, batch_size=BATCH_SIZE, shuffle=False, num_workers=num_workers)"
   ]
  },
  {
   "cell_type": "markdown",
   "metadata": {},
   "source": [
    "### Example of cropped and resized image"
   ]
  },
  {
   "cell_type": "code",
   "execution_count": 9,
   "metadata": {},
   "outputs": [
    {
     "data": {
      "image/png": "[encoded data removed]",
      "text/plain": [
       "<PIL.Image.Image image mode=RGB size=320x240 at 0x7FDB46B99978>"
      ]
     },
     "execution_count": 9,
     "metadata": {},
     "output_type": "execute_result"
    }
   ],
   "source": [
    "x = train_set.__getitem__(0)[0][0]\n",
    "x = x.transpose(1, 2, 0)\n",
    "Image.fromarray((x * 255).astype(np.uint8))"
   ]
  },
  {
   "cell_type": "markdown",
   "metadata": {},
   "source": [
    "# Our Model\n"
   ]
  },
  {
   "cell_type": "code",
   "execution_count": null,
   "metadata": {},
   "outputs": [],
   "source": [
    "import torch.nn as nn\n",
    "import torch"
   ]
  },
  {
   "cell_type": "code",
   "execution_count": 11,
   "metadata": {},
   "outputs": [],
   "source": [
    "class Whip(nn.Module):\n",
    "    def __init__(self, in_channels, out_channels, input_size, output_size):\n",
    "        super(Whip, self).__init__()\n",
    "        \n",
    "        self.conv1 = nn.Conv3d(in_channels=3, out_channels=64, kernel_size=(3, 12, 12), stride=(1,6,6), padding=(0,1,1))\n",
    "        self.bn1 = nn.BatchNorm3d(64)\n",
    "        self.relu1 = nn.ReLU()\n",
    "        \n",
    "        self.conv2 = nn.Conv3d(in_channels=64, out_channels=64, kernel_size=(2, 5, 5), stride=(1,2,2), padding=(0,0,0))\n",
    "        self.bn2 = nn.BatchNorm3d(64)\n",
    "        self.relu2 = nn.ReLU()\n",
    "        \n",
    "        self.conv3 = nn.Conv3d(in_channels=64, out_channels=64, kernel_size=(2, 5, 5), stride=(1,1,1), padding=(0,0,0))\n",
    "        self.bn3 = nn.BatchNorm3d(64)\n",
    "        self.relu3 = nn.ReLU()\n",
    "        \n",
    "        self.avgpool = nn.AvgPool3d(1)\n",
    "        self.fc1 = nn.Linear(52*39*64, 128)\n",
    "        self.fc2 = nn.Linear(24*18*64, 128)\n",
    "        self.fc3 = nn.Linear(20*14*64, 128)\n",
    "\n",
    "    def forward(self, x):\n",
    "        batch_size=x.shape[0]\n",
    "        \n",
    "        output = self.conv1(x)\n",
    "        output = self.bn1(output)\n",
    "        output = self.relu1(output) \n",
    "        output1 = self.fc1(self.avgpool(output.permute(0,2,1,3,4)).reshape(batch_size,13,-1))\n",
    "        \n",
    "        output = self.conv2(output)\n",
    "        output = self.bn2(output)\n",
    "        output = self.relu2(output)\n",
    "        output2 = self.fc2(self.avgpool(output.permute(0,2,1,3,4)).reshape(batch_size,12,-1))\n",
    "\n",
    "        output = self.conv3(output)\n",
    "        output = self.bn3(output)\n",
    "        output = self.relu3(output)  #[batch, channels, seq_len, image H, image W]\n",
    "        output3 = self.fc3(self.avgpool(output.permute(0,2,1,3,4)).reshape(batch_size,11,-1)) #batch, seq, \n",
    "        \n",
    "        output1 = output1[:,:-2,:] #batch_size x 11 x 128, dropped last 2 time in sequence\n",
    "        output2 = output2[:,:-1,:]\n",
    "        output = output1 + output2 + output3  #batch 13 128\n",
    "        return output"
   ]
  },
  {
   "cell_type": "code",
   "execution_count": 12,
   "metadata": {},
   "outputs": [
    {
     "name": "stdout",
     "output_type": "stream",
     "text": [
      "torch.Size([2, 11, 128])\n"
     ]
    }
   ],
   "source": [
    "proto = Whip(15,13,27*37,128)\n",
    "# print(proto)\n",
    "dummy = torch.zeros([2,3,15,320,240])\n",
    "result = proto.forward(dummy)\n",
    "print(result.shape)"
   ]
  },
  {
   "cell_type": "markdown",
   "metadata": {},
   "source": [
    "### Prediction Sub-Network"
   ]
  },
  {
   "cell_type": "code",
   "execution_count": 13,
   "metadata": {},
   "outputs": [],
   "source": [
    "class predictNet(nn.Module):\n",
    "    def __init__(self, feature_dim=128, hidden_dim=64, out_dim=3, nlayers=3):\n",
    "        super(predictNet,self).__init__()\n",
    "        self.lstm = nn.LSTMCell(input_size=feature_dim+out_dim, hidden_size=hidden_dim, bias=False)\n",
    "        self.fc = nn.Linear(feature_dim+hidden_dim+out_dim, out_dim)\n",
    "    \n",
    "    def forward(self, features): \n",
    "        predictions = []\n",
    "        out = torch.zeros((features.shape[0],3)).to(device) #previous speed,torque,angle prediction\n",
    "        for i in range(features.shape[1]):\n",
    "            concat1 = torch.cat([features[:,i,:], out], dim=1) #[batch,seq_len,features]\n",
    "            out_lstm, _ = self.lstm(concat1)\n",
    "            concat2 = torch.cat([out_lstm, features[:,i,:], out], dim=1)\n",
    "            out = self.fc(concat2) #[batch,3]\n",
    "            \n",
    "            predictions.append(out.unsqueeze(1))\n",
    "        \n",
    "        return torch.cat(predictions, dim=1)"
   ]
  },
  {
   "cell_type": "code",
   "execution_count": 14,
   "metadata": {},
   "outputs": [],
   "source": [
    "class slimModel(nn.Module):\n",
    "    def __init__(self, in_channels, out_channels, input_size, output_size=128, hidden_dim=64, out_dim=3, nlayers=3):\n",
    "        super(slimModel, self).__init__()\n",
    "        self.whip = Whip(in_channels, out_channels, input_size, output_size).to(device)\n",
    "        self.predictNet = predictNet().to(device)\n",
    "    \n",
    "    def forward(self, x):\n",
    "        features = self.whip(x)\n",
    "        predictions = self.predictNet(features.to(device))\n",
    "        return predictions"
   ]
  },
  {
   "cell_type": "code",
   "execution_count": 16,
   "metadata": {},
   "outputs": [],
   "source": [
    "def combine(x, y):\n",
    "    total = 0\n",
    "    for v in range(len(x)):\n",
    "        if x[v] and y[v]:\n",
    "            total += 1\n",
    "    return total"
   ]
  },
  {
   "cell_type": "code",
   "execution_count": 17,
   "metadata": {},
   "outputs": [],
   "source": [
    "class RMSELoss(torch.nn.Module):\n",
    "    def __init__(self):\n",
    "        super(RMSELoss,self).__init__()\n",
    "\n",
    "    def forward(self,x,y):\n",
    "        criterion = nn.MSELoss()\n",
    "        loss = torch.sqrt(criterion(x, y))\n",
    "        return loss"
   ]
  },
  {
   "cell_type": "code",
   "execution_count": 18,
   "metadata": {
    "colab": {},
    "colab_type": "code",
    "id": "c6nDA4eylV6N"
   },
   "outputs": [],
   "source": [
    "angle_loss_weight = 10\n",
    "\n",
    "def train(num_epochs, model, save, optimizer, scheduler, criterion, angle_loss_weight=10.0):\n",
    "    EPOCH_TRAIN_LOSSES = []\n",
    "    EPOCH_VAL_LOSSES = []\n",
    "    EPOCH_TRAIN_ACC = []\n",
    "    EPOCH_VAL_ACC = []\n",
    "    train_a_acc = []\n",
    "    val_a_acc = []\n",
    "    \n",
    "    \n",
    "    for epoch in range(num_epochs):\n",
    "        start = time.time()\n",
    "\n",
    "        running_train_loss = 0.0\n",
    "        running_val_loss = 0.0\n",
    "        running_train_acc = 0.0\n",
    "        running_val_acc = 0.0\n",
    "               \n",
    "        t_correct_predictions_0_5 = 0.0\n",
    "        t_correct_predictions_1 = 0.0\n",
    "        t_correct_predictions_2 = 0.0\n",
    "        t_correct_predictions_5 = 0.0\n",
    "        t_correct_predictions_g_5 = 0.0\n",
    "        \n",
    "        v_correct_predictions_0_5 = 0.0\n",
    "        v_correct_predictions_1 = 0.0\n",
    "        v_correct_predictions_2 = 0.0\n",
    "        v_correct_predictions_5 = 0.0\n",
    "        v_correct_predictions_g_5 = 0.0\n",
    "\n",
    "        model.train()\n",
    "        for i, (x, label) in enumerate(train_dataloader):\n",
    "            x, label = x.to(device), label.to(device)\n",
    "            optimizer.zero_grad()\n",
    "            x = x.permute(0,2,1,3,4)\n",
    "            y = model(x.float())[:,-1,:].double().squeeze(1)\n",
    "            \n",
    "#             loss = criterion(y, label)\n",
    "            loss = angle_loss_weight * criterion(y[:,0], label[:,0]) / 4.0 + \\\n",
    "                                    criterion(y[:,1], label[:,1]) /0.9 + \\\n",
    "                                    criterion(y[:,2], label[:,2]) /2.4\n",
    "            loss.backward()\n",
    "            optimizer.step()\n",
    "\n",
    "            running_train_loss += loss.item()\n",
    "            predicted_angles = y[0]\n",
    "            label_angles = label[0]\n",
    "            running_train_acc += torch.mean(torch.abs(predicted_angles - label_angles)).item()\n",
    "            t_correct_predictions_0_5 += torch.sum(torch.abs(predicted_angles - label_angles) <= 0.5).item()\n",
    "            t_correct_predictions_1 += combine(torch.abs(predicted_angles - label_angles) > 0.5,  torch.abs(predicted_angles - label_angles) <= 1)\n",
    "            t_correct_predictions_2 += combine(torch.abs(predicted_angles - label_angles) > 1,  torch.abs(predicted_angles - label_angles) <= 2)\n",
    "            t_correct_predictions_5 += combine(torch.abs(predicted_angles - label_angles) > 2,  torch.abs(predicted_angles - label_angles) <= 5)\n",
    "            v_correct_predictions_g_5 += torch.sum(torch.abs(predicted_angles - label_angles) > 5).item()\n",
    "            \n",
    "            del x\n",
    "            del label\n",
    "\n",
    "        train_a_a = [t_correct_predictions_0_5, t_correct_predictions_1, t_correct_predictions_2, t_correct_predictions_5, t_correct_predictions_g_5]\n",
    "        train_a_acc.append(train_a_a)\n",
    "\n",
    "        model.eval()\n",
    "        with torch.no_grad():\n",
    "            for i, (x, label) in enumerate(val_dataloader):\n",
    "                x, label = x.to(device), label.to(device)\n",
    "                x = x.permute(0,2,1,3,4)\n",
    "                y = model(x.float())[:,-1,:].double().squeeze(1)\n",
    "                \n",
    "#                 loss = criterion(y, label)\n",
    "                loss = angle_loss_weight * criterion(y[:,0], label[:,0]) /4.0 + \\\n",
    "                            criterion(y[:,1], label[:,1]) /0.9 + \\\n",
    "                            criterion(y[:,2], label[:,2]) /2.4\n",
    "\n",
    "                running_val_loss += loss.item()\n",
    "                predicted_angles = y[0]\n",
    "                label_angles = label[0]\n",
    "                running_val_acc += torch.mean(torch.abs(predicted_angles - label_angles)).item()\n",
    "                v_correct_predictions_0_5 += torch.sum(torch.abs(predicted_angles - label_angles) <= 0.5).item()\n",
    "                v_correct_predictions_1 += combine(torch.abs(predicted_angles - label_angles) > 0.5,  torch.abs(predicted_angles - label_angles) <= 1)\n",
    "                v_correct_predictions_2 += combine(torch.abs(predicted_angles - label_angles) > 1,  torch.abs(predicted_angles - label_angles) <= 2)\n",
    "                v_correct_predictions_5 += combine(torch.abs(predicted_angles - label_angles) > 2,  torch.abs(predicted_angles - label_angles) <= 5)\n",
    "                v_correct_predictions_g_5 += torch.sum(torch.abs(predicted_angles - label_angles) > 5).item()\n",
    "                \n",
    "                del x\n",
    "                del label\n",
    "                \n",
    "            val_a_a = [v_correct_predictions_0_5, v_correct_predictions_1, v_correct_predictions_2, v_correct_predictions_5, v_correct_predictions_g_5]\n",
    "            val_a_acc.append(val_a_a)\n",
    "                \n",
    "        train_acc = running_train_acc / len(train_dataloader)\n",
    "        val_acc = running_val_acc / len(val_dataloader)\n",
    "        tloss = running_train_loss / len(train_dataloader)\n",
    "        vloss = running_val_loss/ len(val_dataloader)\n",
    "\n",
    "        print(\"EPOCH\", epoch, \"\\t\\tTook\", int(time.time() - start), \"s\")\n",
    "        print(\"Train Acc:\", round(train_acc, 4), \"\\tVal Acc:\", round(val_acc, 4))\n",
    "        print(\"Avg Train Loss:\", round(tloss, 4), \"\\tAvg Val Loss:\", round(vloss, 4))\n",
    "        print(\"===================================================================\")\n",
    "\n",
    "        scheduler.step(vloss)\n",
    "\n",
    "        EPOCH_TRAIN_LOSSES.append(tloss)\n",
    "        EPOCH_VAL_LOSSES.append(vloss)\n",
    "        EPOCH_TRAIN_ACC.append(train_acc)\n",
    "        EPOCH_VAL_ACC.append(val_acc)\n",
    "\n",
    "        if save:\n",
    "            torch.save(model.state_dict(), './model_' + str(epoch + 1) + '_' + str(val_acc) + '.pt')\n",
    "            \n",
    "    return EPOCH_TRAIN_LOSSES, EPOCH_VAL_LOSSES, EPOCH_TRAIN_ACC, EPOCH_VAL_ACC, val_a_acc, train_a_acc"
   ]
  },
  {
   "cell_type": "markdown",
   "metadata": {},
   "source": [
    "for i, (x, label) in enumerate(train_dataloader):\n",
    "    x, label = x.to(device), label.to(device)\n",
    "    optimizer.zero_grad()\n",
    "    y = model(x.float())[:,-1,:].double().squeeze(1)\n",
    "\n",
    "    loss = criterion(y, label)\n",
    "    import pdb; pdb.set_trace()"
   ]
  },
  {
   "cell_type": "code",
   "execution_count": 19,
   "metadata": {},
   "outputs": [
    {
     "name": "stdout",
     "output_type": "stream",
     "text": [
      "slimModel(\n",
      "  (whip): Whip(\n",
      "    (conv1): Conv3d(3, 64, kernel_size=(3, 12, 12), stride=(1, 6, 6), padding=(0, 1, 1))\n",
      "    (bn1): BatchNorm3d(64, eps=1e-05, momentum=0.1, affine=True, track_running_stats=True)\n",
      "    (relu1): ReLU()\n",
      "    (conv2): Conv3d(64, 64, kernel_size=(2, 5, 5), stride=(1, 2, 2))\n",
      "    (bn2): BatchNorm3d(64, eps=1e-05, momentum=0.1, affine=True, track_running_stats=True)\n",
      "    (relu2): ReLU()\n",
      "    (conv3): Conv3d(64, 64, kernel_size=(2, 5, 5), stride=(1, 1, 1))\n",
      "    (bn3): BatchNorm3d(64, eps=1e-05, momentum=0.1, affine=True, track_running_stats=True)\n",
      "    (relu3): ReLU()\n",
      "    (avgpool): AvgPool3d(kernel_size=1, stride=1, padding=0)\n",
      "    (fc1): Linear(in_features=129792, out_features=128, bias=True)\n",
      "    (fc2): Linear(in_features=27648, out_features=128, bias=True)\n",
      "    (fc3): Linear(in_features=17920, out_features=128, bias=True)\n",
      "  )\n",
      "  (predictNet): predictNet(\n",
      "    (lstm): LSTMCell(131, 64, bias=False)\n",
      "    (fc): Linear(in_features=195, out_features=3, bias=True)\n",
      "  )\n",
      ")\n"
     ]
    }
   ],
   "source": [
    "context_size = 15\n",
    "out_channels = 13\n",
    "# input_size = 140448     # use this if using original image size\n",
    "input_size = 27*37\n",
    "\n",
    "# we will be predicting angle, torque, and speed\n",
    "output_size = 128\n",
    "#model = Whip(context_size, out_channels, input_size, output_size).to(device)\n",
    "# model = superModel(in_channels=context_size, out_channels=out_channels, input_size=input_size, output_size=128, hidden_dim=64, out_dim=3, nlayers=3)\n",
    "# model = model.to(device)\n",
    "model = slimModel(in_channels=context_size, out_channels=out_channels, input_size=input_size, output_size=128, hidden_dim=64, out_dim=3, nlayers=3)\n",
    "model = model.to(device)\n",
    "optimizer = torch.optim.Adam(model.parameters(), lr=0.01)\n",
    "scheduler = torch.optim.lr_scheduler.ReduceLROnPlateau(optimizer, patience=2)\n",
    "criterion = RMSELoss()\n",
    "\n",
    "print(model)"
   ]
  },
  {
   "cell_type": "code",
   "execution_count": 20,
   "metadata": {},
   "outputs": [],
   "source": [
    "EPOCH_TRAIN_LOSSES = []\n",
    "EPOCH_VAL_LOSSES = []\n",
    "EPOCH_TRAIN_ACC = []\n",
    "EPOCH_VAL_ACC = []\n",
    "val_a_acc = []\n",
    "train_a_acc = []"
   ]
  },
  {
   "cell_type": "code",
   "execution_count": 21,
   "metadata": {
    "scrolled": true
   },
   "outputs": [
    {
     "name": "stdout",
     "output_type": "stream",
     "text": [
      "EPOCH 0 \t\tTook 4161 s\n",
      "Train Acc: 6.6293 \tVal Acc: 12.3133\n",
      "Avg Train Loss: 39.1835 \tAvg Val Loss: 44.3162\n",
      "===================================================================\n",
      "EPOCH 1 \t\tTook 4122 s\n",
      "Train Acc: 4.9957 \tVal Acc: 4.5848\n",
      "Avg Train Loss: 32.658 \tAvg Val Loss: 19.4563\n",
      "===================================================================\n",
      "EPOCH 2 \t\tTook 4114 s\n",
      "Train Acc: 4.8729 \tVal Acc: 4.5823\n",
      "Avg Train Loss: 32.4517 \tAvg Val Loss: 18.7813\n",
      "===================================================================\n",
      "EPOCH 3 \t\tTook 4114 s\n",
      "Train Acc: 4.9109 \tVal Acc: 4.4977\n",
      "Avg Train Loss: 32.2237 \tAvg Val Loss: 18.5672\n",
      "===================================================================\n",
      "EPOCH 4 \t\tTook 4115 s\n",
      "Train Acc: 5.2064 \tVal Acc: 4.5212\n",
      "Avg Train Loss: 33.4827 \tAvg Val Loss: 18.75\n",
      "===================================================================\n"
     ]
    }
   ],
   "source": [
    "n_epochs = 5\n",
    "results = train(n_epochs, model, True, optimizer, scheduler, criterion)\n",
    "EPOCH_TRAIN_LOSSES += results[0]\n",
    "EPOCH_VAL_LOSSES += results[1]\n",
    "EPOCH_TRAIN_ACC += results[2]\n",
    "EPOCH_VAL_ACC += results[3]\n",
    "val_a_acc += results[4]\n",
    "train_a_acc += results[5]"
   ]
  },
  {
   "cell_type": "markdown",
   "metadata": {},
   "source": [
    "# Plotting Results"
   ]
  },
  {
   "cell_type": "code",
   "execution_count": 22,
   "metadata": {},
   "outputs": [
    {
     "name": "stdout",
     "output_type": "stream",
     "text": [
      "[39.1834840251116, 32.65799546525447, 32.4517107519005, 32.22372723972643, 33.482734674002344]\n",
      "[44.31619700782354, 19.456289270737223, 18.78134070835926, 18.56724325686632, 18.750024618101797]\n",
      "[6.62927176531399, 4.995674186654015, 4.872880317860087, 4.910855350789803, 5.2064144319155785]\n",
      "[12.313318144074104, 4.58477919754078, 4.582290611957252, 4.497684579740437, 4.521237372890638]\n",
      "[[630.0, 585.0, 1161.0, 3020.0, 21191.0], [3397.0, 2348.0, 1920.0, 2634.0, 14479.0], [3203.0, 2473.0, 2240.0, 2443.0, 14206.0], [3351.0, 2638.0, 1933.0, 2622.0, 14046.0], [3958.0, 2042.0, 1931.0, 2434.0, 14573.0]]\n",
      "[[6256.0, 4891.0, 5794.0, 7139.0, 0.0], [6923.0, 5568.0, 6240.0, 7158.0, 0.0], [7178.0, 5740.0, 6220.0, 6964.0, 0.0], [7147.0, 5743.0, 6299.0, 6888.0, 0.0], [6553.0, 5294.0, 6426.0, 7456.0, 0.0]]\n"
     ]
    }
   ],
   "source": [
    "print(EPOCH_TRAIN_LOSSES)\n",
    "print(EPOCH_VAL_LOSSES) \n",
    "print(EPOCH_TRAIN_ACC) \n",
    "print(EPOCH_VAL_ACC) \n",
    "print(val_a_acc) \n",
    "print(train_a_acc)"
   ]
  },
  {
   "cell_type": "code",
   "execution_count": 23,
   "metadata": {},
   "outputs": [
    {
     "data": {
      "text/plain": [
       "<Figure size 640x480 with 1 Axes>"
      ]
     },
     "metadata": {},
     "output_type": "display_data"
    },
    {
     "data": {
      "text/plain": [
       "<Figure size 640x480 with 1 Axes>"
      ]
     },
     "metadata": {},
     "output_type": "display_data"
    }
   ],
   "source": [
    "import matplotlib.pyplot as plt\n",
    "\n",
    "ep = np.arange(n_epochs)\n",
    "\n",
    "rangeVi = 0\n",
    "rangeVf = n_epochs\n",
    "plt.plot(ep[rangeVi:rangeVf], EPOCH_TRAIN_LOSSES[rangeVi:rangeVf], label=\"Train\")\n",
    "plt.plot(ep[rangeVi:rangeVf], EPOCH_VAL_LOSSES[rangeVi:rangeVf], label=\"Validation\")\n",
    "plt.xlabel(\"Number of Epochs\")\n",
    "plt.ylabel(\"Loss\")\n",
    "plt.title(\"Epochs vs Loss\")\n",
    "plt.legend()\n",
    "plt.savefig('SlimModel LossGraph.png')\n",
    "plt.show()\n",
    "\n",
    "plt.plot(ep[rangeVi:rangeVf], EPOCH_TRAIN_ACC[rangeVi:rangeVf], label=\"Train\")\n",
    "plt.plot(ep[rangeVi:rangeVf], EPOCH_VAL_ACC[rangeVi:rangeVf], label=\"Validation\")\n",
    "plt.xlabel(\"Epoch\")\n",
    "plt.ylabel(\"Average Degree Distance\")\n",
    "plt.title(\"Epochs vs Average Degree Distance\")\n",
    "plt.legend()\n",
    "plt.savefig('SlimModel AccuracyGraph.png')\n",
    "plt.show()"
   ]
  },
  {
   "cell_type": "code",
   "execution_count": 24,
   "metadata": {},
   "outputs": [
    {
     "data": {
      "image/png": "[encoded data removed]",
      "text/plain": [
       "<Figure size 432x288 with 1 Axes>"
      ]
     },
     "metadata": {},
     "output_type": "display_data"
    },
    {
     "data": {
      "text/plain": [
       "<Figure size 432x288 with 0 Axes>"
      ]
     },
     "metadata": {},
     "output_type": "display_data"
    },
    {
     "data": {
      "image/png": "[encoded data removed]",
      "text/plain": [
       "<Figure size 432x288 with 1 Axes>"
      ]
     },
     "metadata": {},
     "output_type": "display_data"
    },
    {
     "data": {
      "text/plain": [
       "<Figure size 432x288 with 0 Axes>"
      ]
     },
     "metadata": {},
     "output_type": "display_data"
    }
   ],
   "source": [
    "\n",
    "objects = ('[0, 0.5]', '(0.5, 1]', '(1, 2]', '(2, 5]', '(5, Inf.)')\n",
    "performanceV = val_a_acc[-1]\n",
    "performanceT = train_a_acc[0]\n",
    "\n",
    "x = np.arange(len(objects))\n",
    "width = 0.2 # the width of the bars\n",
    "ylim= 300#10000\n",
    "\n",
    "fig, ax = plt.subplots()\n",
    "rects1 = ax.bar(x - width/2, performanceV, width, label=\"Validation\")\n",
    "rects1 = ax.bar(x + width/2, performanceT, width, label=\"Training\")\n",
    "\n",
    "# Add some text for labels, title and custom x-axis tick labels, etc.\n",
    "ax.set_ylabel('Training Points')\n",
    "ax.set_title('Accuracy for Last Epoch')\n",
    "ax.set_xticks(x)\n",
    "plt.ylim(0, ylim)\n",
    "labels = []\n",
    "totalV = sum(performanceV)\n",
    "totalT = sum(performanceT)\n",
    "\n",
    "for x in range(len(objects)):\n",
    "    labels.append(objects[x] + \"\\n\" + str(int((performanceV[x]/totalV)*100)) + \"%,\" + str(int((performanceT[x]/totalT)*100)) + \"%\")\n",
    "ax.set_xticklabels(labels)\n",
    "ax.legend()\n",
    "plt.show()\n",
    "plt.savefig('SlimModel Last_Epoch.png', dpi=300)\n",
    "\n",
    "objects = ('[0, 0.5]', '(0.5, 1]', '(1, 2]', '(2, 5]', '(5, Inf.)')\n",
    "performanceV = val_a_acc[0]\n",
    "performanceT = train_a_acc[-1]\n",
    "\n",
    "x = np.arange(len(objects))\n",
    "# print(v_all_a)\n",
    "width = 0.2  # the width of the bars\n",
    "\n",
    "fig, ax = plt.subplots()\n",
    "rects1 = ax.bar(x - width/2, performanceV, width, label=\"Validation\")\n",
    "rects1 = ax.bar(x + width/2, performanceT, width, label=\"Training\")\n",
    "\n",
    "# Add some text for labels, title and custom x-axis tick labels, etc.\n",
    "ax.set_ylabel('Training Points')\n",
    "ax.set_title('Accuracy for First Epoch')\n",
    "ax.set_xticks(x)\n",
    "plt.ylim(0, ylim)\n",
    "labels = []\n",
    "totalV = sum(performanceV)\n",
    "totalT = sum(performanceT)\n",
    "\n",
    "for x in range(len(objects)):\n",
    "    labels.append(objects[x] + \"\\n\" + str(int((performanceV[x]/totalV)*100)) + \"%,\" + str(int((performanceT[x]/totalT)*100)) + \"%\")\n",
    "ax.set_xticklabels(labels)\n",
    "ax.legend()\n",
    "plt.show()\n",
    "plt.savefig('SlimModel_Epoch.png', dpi=300)\n"
   ]
  },
  {
   "cell_type": "code",
   "execution_count": 26,
   "metadata": {},
   "outputs": [],
   "source": [
    "torch.save(model.state_dict(), \"SlimModel_5epoch.pt\")"
   ]
  }
 ],
 "metadata": {
  "colab": {
   "collapsed_sections": [],
   "machine_shape": "hm",
   "name": "steering.ipynb",
   "provenance": []
  },
  "kernelspec": {
   "display_name": "Python 3",
   "language": "python",
   "name": "python3"
  },
  "language_info": {
   "codemirror_mode": {
    "name": "ipython",
    "version": 3
   },
   "file_extension": ".py",
   "mimetype": "text/x-python",
   "name": "python",
   "nbconvert_exporter": "python",
   "pygments_lexer": "ipython3",
   "version": "3.6.6"
  }
 },
 "nbformat": 4,
 "nbformat_minor": 1
}
