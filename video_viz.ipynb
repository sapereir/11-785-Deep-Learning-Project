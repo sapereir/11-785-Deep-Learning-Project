{
 "cells": [
  {
   "cell_type": "code",
   "execution_count": 1,
   "metadata": {},
   "outputs": [],
   "source": [
    "import cv2\n",
    "import numpy as np\n",
    "import os\n",
    "import pandas as pd\n",
    "import math\n",
    "import matplotlib.pyplot as plt\n",
    "from os.path import isfile, join\n",
    "from PIL import Image\n"
   ]
  },
  {
   "cell_type": "code",
   "execution_count": 2,
   "metadata": {},
   "outputs": [],
   "source": [
    "pathIn= './good_sequence1/'\n",
    "pathOut = 'seq1_raw.mp4'\n",
    "\n",
    "# image1 = Image.open(pathIn+'gs00001.jpg')\n",
    "# image1.show()"
   ]
  },
  {
   "cell_type": "code",
   "execution_count": 3,
   "metadata": {},
   "outputs": [
    {
     "name": "stdout",
     "output_type": "stream",
     "text": [
      "[3188]\n",
      "[3643]\n"
     ]
    }
   ],
   "source": [
    "# Read in labels and extract angles vector\n",
    "# good_sequence1, 40 frames long, from:\n",
    "# center/1479424375308559998.jpg\n",
    "# good_sequence2, 160 frames long, from:\n",
    "# center/1479424398062555784.jpg\n",
    "\n",
    "table = pd.read_csv('labels.txt',delimiter=' ',names = [\"filename\", \"steer\", \"torque\", \"velocity\"])\n",
    "# print(table) #33808 rows x 4 columns\n",
    "\n",
    "seq1_cond = table['filename'] == 'center/1479424375308559998.jpg'\n",
    "seq2_cond = table['filename'] == 'center/1479424398062555784.jpg'\n",
    "\n",
    "seq1_idx = table.index[seq1_cond].tolist()\n",
    "seq2_idx = table.index[seq2_cond].tolist()\n",
    "print(seq1_idx)\n",
    "print(seq2_idx)"
   ]
  },
  {
   "cell_type": "code",
   "execution_count": 4,
   "metadata": {},
   "outputs": [
    {
     "name": "stdout",
     "output_type": "stream",
     "text": [
      "40\n",
      "160\n"
     ]
    }
   ],
   "source": [
    "true_angle1 = []\n",
    "true_angle2 = []\n",
    "for i in range(40): #extracts steering angles for sequence 1\n",
    "    idx = seq1_idx[0] + i\n",
    "    true_angle1.append(table.loc[idx,'steer'])\n",
    "    \n",
    "for i in range(160): #extracts steering angles for sequence 1\n",
    "    idx = seq2_idx[0] + i\n",
    "    true_angle2.append(table.loc[idx,'steer'])\n",
    "\n",
    "print(len(true_angle1))\n",
    "print(len(true_angle2))\n",
    "# true_angle1 = np.asarray(true_angle1)\n",
    "# print(true_angle1[1])"
   ]
  },
  {
   "cell_type": "code",
   "execution_count": 38,
   "metadata": {},
   "outputs": [],
   "source": [
    "def plot_ray(point, tru_angle, length,exaggerate=False):  \n",
    "    if exaggerate is True:\n",
    "        tru_angle=tru_angle*3 \n",
    "#         pred_angle=pred_angle*2\n",
    "    startx, starty = point\n",
    "    endy1 = starty + length * math.sin(math.radians(90.0)+tru_angle)  #default is positive-x axis,\n",
    "    endx1 = startx + length * math.cos(math.radians(90.0)+tru_angle)  #we need common driving angle\n",
    "    \n",
    "#     endy2 = starty + length * math.sin(math.radians(90.0)+pred_angle)  #default is positive-x axis,\n",
    "#     endx2 = startx + length * math.cos(math.radians(90.0)+pred_angle)\n",
    "    \n",
    "#     fig, (ax1, ax2) = plt.subplots(1, 2)\n",
    "    fig, ax1 = plt.subplots(1, 1)\n",
    "    fig.suptitle('True steering angle (blue), predicted steering angle(red)')\n",
    "    ax1.plot([startx, endx1], [starty, endy1],'b')\n",
    "#     ax2.plot([startx, endx2], [starty, endy2],'r')\n",
    "    ax1.set_ylim([-1, 1])\n",
    "    ax1.set_xlim([-1, 1])\n",
    "#     ax2.set_ylim([-1, 1])\n",
    "#     ax2.set_xlim([-1, 1])\n",
    "    fig.show()\n",
    "    return fig\n",
    "\n",
    "png_PATH = './png_folder/'\n",
    "\n",
    "for i in range(40):\n",
    "    fig = plot_ray([0,0],true_angle1[i],1.0, exaggerate=True)\n",
    "    fig.savefig(png_PATH+'wheel_1_'+str(i)+'.png')\n"
   ]
  },
  {
   "cell_type": "code",
   "execution_count": 41,
   "metadata": {},
   "outputs": [
    {
     "name": "stdout",
     "output_type": "stream",
     "text": [
      "wheel100039.png wheel100005.png wheel100011.png wheel100010.png\n",
      "['wheel100001.png', 'wheel100002.png', 'wheel100003.png', 'wheel100004.png', 'wheel100005.png', 'wheel100006.png', 'wheel100007.png', 'wheel100008.png', 'wheel100009.png', 'wheel100010.png', 'wheel100011.png', 'wheel100012.png', 'wheel100013.png', 'wheel100014.png', 'wheel100015.png', 'wheel100016.png', 'wheel100017.png', 'wheel100018.png', 'wheel100019.png', 'wheel100020.png', 'wheel100021.png', 'wheel100022.png', 'wheel100023.png', 'wheel100024.png', 'wheel100025.png', 'wheel100026.png', 'wheel100027.png', 'wheel100028.png', 'wheel100029.png', 'wheel100030.png', 'wheel100031.png', 'wheel100032.png', 'wheel100033.png', 'wheel100034.png', 'wheel100035.png', 'wheel100036.png', 'wheel100037.png', 'wheel100038.png', 'wheel100039.png', 'wheel100040.png'] after sort\n"
     ]
    }
   ],
   "source": [
    "pathIn='./png_folder/'\n",
    "pathOut='angle_demo.mp4'\n",
    "\n",
    "fps = 5 #5 pics per sec\n",
    "frame_array = []\n",
    "files = [f for f in os.listdir(pathIn) if isfile(join(pathIn, f))]\n",
    "print(files[0],files[1],files[2],files[3])\n",
    "\n",
    "# Filenames in sequence are renamed for making video\n",
    "# #for sorting the file names properly\n",
    "files.sort(key = lambda x: x[5:-4])\n",
    "files.sort()\n",
    "print(files,'after sort')"
   ]
  },
  {
   "cell_type": "code",
   "execution_count": 42,
   "metadata": {},
   "outputs": [],
   "source": [
    "frame_array = []\n",
    "files = [f for f in os.listdir(pathIn) if isfile(join(pathIn, f))]\n",
    "#for sorting the file names properly\n",
    "files.sort(key = lambda x: x[5:-4])\n",
    "for i in range(len(files)):\n",
    "    filename=pathIn + files[i]\n",
    "    #reading each files\n",
    "    img = cv2.imread(filename)\n",
    "    height, width, layers = img.shape\n",
    "    size = (width,height)\n",
    "    \n",
    "    #inserting the frames into an image array\n",
    "    frame_array.append(img)\n",
    "out = cv2.VideoWriter(pathOut,cv2.VideoWriter_fourcc(*'DIVX'), fps, size)\n",
    "\n",
    "for i in range(len(frame_array)):\n",
    "    # writing to a image array\n",
    "    out.write(frame_array[i])\n",
    "out.release()"
   ]
  },
  {
   "cell_type": "code",
   "execution_count": null,
   "metadata": {},
   "outputs": [],
   "source": []
  },
  {
   "cell_type": "code",
   "execution_count": null,
   "metadata": {},
   "outputs": [],
   "source": []
  }
 ],
 "metadata": {
  "kernelspec": {
   "display_name": "Python 3",
   "language": "python",
   "name": "python3"
  },
  "language_info": {
   "codemirror_mode": {
    "name": "ipython",
    "version": 3
   },
   "file_extension": ".py",
   "mimetype": "text/x-python",
   "name": "python",
   "nbconvert_exporter": "python",
   "pygments_lexer": "ipython3",
   "version": "3.7.3"
  }
 },
 "nbformat": 4,
 "nbformat_minor": 4
}
